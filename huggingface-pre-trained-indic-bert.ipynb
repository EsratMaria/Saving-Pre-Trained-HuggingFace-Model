{
 "cells": [
  {
   "cell_type": "markdown",
   "id": "9b6c0cd6",
   "metadata": {
    "papermill": {
     "duration": 0.008802,
     "end_time": "2021-09-04T05:51:37.152137",
     "exception": false,
     "start_time": "2021-09-04T05:51:37.143335",
     "status": "completed"
    },
    "tags": []
   },
   "source": [
    "# Installing Pre-trained Huggingface 🤗 Model\n",
    "\n",
    "## indic-bert Transformer Model\n",
    "\n",
    "Inspired from this [Kernel](https://www.kaggle.com/spshota/installation-of-a-pretrain-model-from-hugging-face)"
   ]
  },
  {
   "cell_type": "code",
   "execution_count": 1,
   "id": "82bebb51",
   "metadata": {
    "_cell_guid": "b1076dfc-b9ad-4769-8c92-a6c4dae69d19",
    "_uuid": "8f2839f25d086af736a60e9eeb907d3b93b6e0e5",
    "execution": {
     "iopub.execute_input": "2021-09-04T05:51:37.171437Z",
     "iopub.status.busy": "2021-09-04T05:51:37.170420Z",
     "iopub.status.idle": "2021-09-04T05:51:37.178061Z",
     "shell.execute_reply": "2021-09-04T05:51:37.178499Z",
     "shell.execute_reply.started": "2021-09-04T05:49:24.191666Z"
    },
    "papermill": {
     "duration": 0.018795,
     "end_time": "2021-09-04T05:51:37.178779",
     "exception": false,
     "start_time": "2021-09-04T05:51:37.159984",
     "status": "completed"
    },
    "tags": []
   },
   "outputs": [],
   "source": [
    "model_name = 'indic-bert'\n",
    "model_path = f'ai4bharat/{model_name}'"
   ]
  },
  {
   "cell_type": "code",
   "execution_count": 2,
   "id": "6a110ece",
   "metadata": {
    "execution": {
     "iopub.execute_input": "2021-09-04T05:51:37.195512Z",
     "iopub.status.busy": "2021-09-04T05:51:37.194983Z",
     "iopub.status.idle": "2021-09-04T05:51:40.007790Z",
     "shell.execute_reply": "2021-09-04T05:51:40.008263Z",
     "shell.execute_reply.started": "2021-09-04T05:49:25.161342Z"
    },
    "papermill": {
     "duration": 2.822422,
     "end_time": "2021-09-04T05:51:40.008432",
     "exception": false,
     "start_time": "2021-09-04T05:51:37.186010",
     "status": "completed"
    },
    "tags": []
   },
   "outputs": [
    {
     "name": "stdout",
     "output_type": "stream",
     "text": [
      "Cloning into 'indic-bert'...\r\n",
      "remote: Enumerating objects: 31, done.\u001b[K\r\n",
      "remote: Counting objects: 100% (31/31), done.\u001b[K\r\n",
      "remote: Compressing objects: 100% (30/30), done.\u001b[K\r\n",
      "remote: Total 31 (delta 9), reused 0 (delta 0)\u001b[K\r\n",
      "Unpacking objects: 100% (31/31), done.\r\n"
     ]
    }
   ],
   "source": [
    "!git clone https://huggingface.co/{model_path}"
   ]
  },
  {
   "cell_type": "code",
   "execution_count": 3,
   "id": "72eb3258",
   "metadata": {
    "execution": {
     "iopub.execute_input": "2021-09-04T05:51:40.037550Z",
     "iopub.status.busy": "2021-09-04T05:51:40.036342Z",
     "iopub.status.idle": "2021-09-04T05:51:40.807942Z",
     "shell.execute_reply": "2021-09-04T05:51:40.807315Z",
     "shell.execute_reply.started": "2021-09-04T05:49:31.846003Z"
    },
    "papermill": {
     "duration": 0.789747,
     "end_time": "2021-09-04T05:51:40.808094",
     "exception": false,
     "start_time": "2021-09-04T05:51:40.018347",
     "status": "completed"
    },
    "tags": []
   },
   "outputs": [
    {
     "name": "stdout",
     "output_type": "stream",
     "text": [
      "total 13160\r\n",
      "drwxr-xr-x 3 root root    4096 Sep  4 05:51 .\r\n",
      "drwxr-xr-x 3 root root    4096 Sep  4 05:51 ..\r\n",
      "drwxr-xr-x 8 root root    4096 Sep  4 05:51 .git\r\n",
      "-rw-r--r-- 1 root root     345 Sep  4 05:51 .gitattributes\r\n",
      "-rw-r--r-- 1 root root    4771 Sep  4 05:51 README.md\r\n",
      "-rw-r--r-- 1 root root     507 Sep  4 05:51 config.json\r\n",
      "-rw-r--r-- 1 root root     134 Sep  4 05:51 pytorch_model.bin\r\n",
      "-rw-r--r-- 1 root root 5646064 Sep  4 05:51 spiece.model\r\n",
      "-rw-r--r-- 1 root root 5585896 Sep  4 05:51 spiece.vocab\r\n",
      "-rw-r--r-- 1 root root     134 Sep  4 05:51 tf_model.ckpt.data-00000-of-00001\r\n",
      "-rw-r--r-- 1 root root    1868 Sep  4 05:51 tf_model.ckpt.index\r\n",
      "-rw-r--r-- 1 root root 2199516 Sep  4 05:51 tf_model.ckpt.meta\r\n"
     ]
    }
   ],
   "source": [
    "! ls -la {model_name}"
   ]
  },
  {
   "cell_type": "markdown",
   "id": "84433354",
   "metadata": {
    "papermill": {
     "duration": 0.009654,
     "end_time": "2021-09-04T05:51:40.827453",
     "exception": false,
     "start_time": "2021-09-04T05:51:40.817799",
     "status": "completed"
    },
    "tags": []
   },
   "source": [
    "### Installing Git LFS since the `pytorch_model.bin` is very small in size"
   ]
  },
  {
   "cell_type": "code",
   "execution_count": 4,
   "id": "9b73f7be",
   "metadata": {
    "execution": {
     "iopub.execute_input": "2021-09-04T05:51:40.855308Z",
     "iopub.status.busy": "2021-09-04T05:51:40.852085Z",
     "iopub.status.idle": "2021-09-04T05:51:55.029923Z",
     "shell.execute_reply": "2021-09-04T05:51:55.029412Z",
     "shell.execute_reply.started": "2021-09-04T05:49:42.287207Z"
    },
    "papermill": {
     "duration": 14.192881,
     "end_time": "2021-09-04T05:51:55.030067",
     "exception": false,
     "start_time": "2021-09-04T05:51:40.837186",
     "status": "completed"
    },
    "tags": []
   },
   "outputs": [
    {
     "name": "stdout",
     "output_type": "stream",
     "text": [
      "Detected operating system as Ubuntu/bionic.\r\n",
      "Checking for curl...\r\n",
      "Detected curl...\r\n",
      "Checking for gpg...\r\n",
      "Detected gpg...\r\n",
      "Running apt-get update... done.\r\n",
      "Installing apt-transport-https... done.\r\n",
      "Installing /etc/apt/sources.list.d/github_git-lfs.list...done.\r\n",
      "Importing packagecloud gpg key... done.\r\n",
      "Running apt-get update... done.\r\n",
      "\r\n",
      "The repository is setup! You can now install packages.\r\n",
      "\r\n",
      "\r\n",
      "\r\n",
      "The following NEW packages will be installed:\r\n",
      "  git-lfs\r\n",
      "0 upgraded, 1 newly installed, 0 to remove and 28 not upgraded.\r\n",
      "Need to get 2129 kB of archives.\r\n",
      "After this operation, 7662 kB of additional disk space will be used.\r\n",
      "Get:1 http://archive.ubuntu.com/ubuntu bionic/universe amd64 git-lfs amd64 2.3.4-1 [2129 kB]\r\n",
      "Fetched 2129 kB in 1s (2420 kB/s)\r\n",
      "debconf: delaying package configuration, since apt-utils is not installed\r\n",
      "Selecting previously unselected package git-lfs.\r\n",
      "(Reading database ... 96799 files and directories currently installed.)\r\n",
      "Preparing to unpack .../git-lfs_2.3.4-1_amd64.deb ...\r\n",
      "Unpacking git-lfs (2.3.4-1) ...\r\n",
      "Setting up git-lfs (2.3.4-1) ...\r\n"
     ]
    }
   ],
   "source": [
    "!curl -s https://packagecloud.io/install/repositories/github/git-lfs/script.deb.sh | bash\n",
    "!apt-get install git-lfs"
   ]
  },
  {
   "cell_type": "markdown",
   "id": "595df084",
   "metadata": {
    "papermill": {
     "duration": 0.016518,
     "end_time": "2021-09-04T05:51:55.063552",
     "exception": false,
     "start_time": "2021-09-04T05:51:55.047034",
     "status": "completed"
    },
    "tags": []
   },
   "source": [
    "### Initializing the repo git Git LFS"
   ]
  },
  {
   "cell_type": "code",
   "execution_count": 5,
   "id": "07280b2a",
   "metadata": {
    "execution": {
     "iopub.execute_input": "2021-09-04T05:51:55.106645Z",
     "iopub.status.busy": "2021-09-04T05:51:55.105516Z",
     "iopub.status.idle": "2021-09-04T05:52:30.307985Z",
     "shell.execute_reply": "2021-09-04T05:52:30.307103Z",
     "shell.execute_reply.started": "2021-09-04T05:50:07.120123Z"
    },
    "papermill": {
     "duration": 35.227688,
     "end_time": "2021-09-04T05:52:30.308126",
     "exception": false,
     "start_time": "2021-09-04T05:51:55.080438",
     "status": "completed"
    },
    "tags": []
   },
   "outputs": [
    {
     "name": "stdout",
     "output_type": "stream",
     "text": [
      "Updated git hooks.\r\n",
      "Git LFS initialized.\r\n",
      "Git LFS: (2 of 2 files) 510.37 MB / 510.37 MB                                  \r\n"
     ]
    }
   ],
   "source": [
    "!git -C {model_name} lfs install\n",
    "!git -C {model_name} lfs pull"
   ]
  },
  {
   "cell_type": "code",
   "execution_count": 6,
   "id": "bee3c3d2",
   "metadata": {
    "execution": {
     "iopub.execute_input": "2021-09-04T05:52:30.374241Z",
     "iopub.status.busy": "2021-09-04T05:52:30.371036Z",
     "iopub.status.idle": "2021-09-04T05:52:31.144183Z",
     "shell.execute_reply": "2021-09-04T05:52:31.144627Z",
     "shell.execute_reply.started": "2021-09-04T05:51:00.687541Z"
    },
    "papermill": {
     "duration": 0.806566,
     "end_time": "2021-09-04T05:52:31.144802",
     "exception": false,
     "start_time": "2021-09-04T05:52:30.338236",
     "status": "completed"
    },
    "tags": []
   },
   "outputs": [
    {
     "name": "stdout",
     "output_type": "stream",
     "text": [
      "total 535776\r\n",
      "drwxr-xr-x 3 root root      4096 Sep  4 05:51 .\r\n",
      "drwxr-xr-x 3 root root      4096 Sep  4 05:51 ..\r\n",
      "drwxr-xr-x 9 root root      4096 Sep  4 05:52 .git\r\n",
      "-rw-r--r-- 1 root root       345 Sep  4 05:51 .gitattributes\r\n",
      "-rw-r--r-- 1 root root      4771 Sep  4 05:51 README.md\r\n",
      "-rw-r--r-- 1 root root       507 Sep  4 05:51 config.json\r\n",
      "-rw-r--r-- 1 root root 134982446 Sep  4 05:52 pytorch_model.bin\r\n",
      "-rw-r--r-- 1 root root   5646064 Sep  4 05:51 spiece.model\r\n",
      "-rw-r--r-- 1 root root   5585896 Sep  4 05:51 spiece.vocab\r\n",
      "-rw-r--r-- 1 root root 400182536 Sep  4 05:52 tf_model.ckpt.data-00000-of-00001\r\n",
      "-rw-r--r-- 1 root root      1868 Sep  4 05:51 tf_model.ckpt.index\r\n",
      "-rw-r--r-- 1 root root   2199516 Sep  4 05:51 tf_model.ckpt.meta\r\n"
     ]
    }
   ],
   "source": [
    "!ls -la {model_name}"
   ]
  },
  {
   "cell_type": "markdown",
   "id": "7da6a956",
   "metadata": {
    "papermill": {
     "duration": 0.028121,
     "end_time": "2021-09-04T05:52:31.201367",
     "exception": false,
     "start_time": "2021-09-04T05:52:31.173246",
     "status": "completed"
    },
    "tags": []
   },
   "source": [
    "`pytorch_model.bin` size looks good!"
   ]
  },
  {
   "cell_type": "markdown",
   "id": "1c2a6466",
   "metadata": {
    "papermill": {
     "duration": 0.029505,
     "end_time": "2021-09-04T05:52:31.259392",
     "exception": false,
     "start_time": "2021-09-04T05:52:31.229887",
     "status": "completed"
    },
    "tags": []
   },
   "source": [
    "### Removing Git related files"
   ]
  },
  {
   "cell_type": "code",
   "execution_count": 7,
   "id": "2a3352d6",
   "metadata": {
    "execution": {
     "iopub.execute_input": "2021-09-04T05:52:31.319452Z",
     "iopub.status.busy": "2021-09-04T05:52:31.318924Z",
     "iopub.status.idle": "2021-09-04T05:52:32.969927Z",
     "shell.execute_reply": "2021-09-04T05:52:32.969427Z",
     "shell.execute_reply.started": "2021-09-04T05:51:07.549894Z"
    },
    "papermill": {
     "duration": 1.682156,
     "end_time": "2021-09-04T05:52:32.970066",
     "exception": false,
     "start_time": "2021-09-04T05:52:31.287910",
     "status": "completed"
    },
    "tags": []
   },
   "outputs": [
    {
     "name": "stdout",
     "output_type": "stream",
     "text": [
      "total 535768\r\n",
      "drwxr-xr-x 2 root root      4096 Sep  4 05:52 .\r\n",
      "drwxr-xr-x 3 root root      4096 Sep  4 05:51 ..\r\n",
      "-rw-r--r-- 1 root root      4771 Sep  4 05:51 README.md\r\n",
      "-rw-r--r-- 1 root root       507 Sep  4 05:51 config.json\r\n",
      "-rw-r--r-- 1 root root 134982446 Sep  4 05:52 pytorch_model.bin\r\n",
      "-rw-r--r-- 1 root root   5646064 Sep  4 05:51 spiece.model\r\n",
      "-rw-r--r-- 1 root root   5585896 Sep  4 05:51 spiece.vocab\r\n",
      "-rw-r--r-- 1 root root 400182536 Sep  4 05:52 tf_model.ckpt.data-00000-of-00001\r\n",
      "-rw-r--r-- 1 root root      1868 Sep  4 05:51 tf_model.ckpt.index\r\n",
      "-rw-r--r-- 1 root root   2199516 Sep  4 05:51 tf_model.ckpt.meta\r\n"
     ]
    }
   ],
   "source": [
    "!rm -rf {model_name}/.git*\n",
    "!ls -la {model_name}"
   ]
  },
  {
   "cell_type": "markdown",
   "id": "40d54730",
   "metadata": {
    "papermill": {
     "duration": 0.029455,
     "end_time": "2021-09-04T05:52:33.028680",
     "exception": false,
     "start_time": "2021-09-04T05:52:32.999225",
     "status": "completed"
    },
    "tags": []
   },
   "source": [
    "### Again thanks to [this](https://www.kaggle.com/spshota/installation-of-a-pretrain-model-from-hugging-face) kernel for making the steps so clear."
   ]
  }
 ],
 "metadata": {
  "kernelspec": {
   "display_name": "Python 3",
   "language": "python",
   "name": "python3"
  },
  "language_info": {
   "codemirror_mode": {
    "name": "ipython",
    "version": 3
   },
   "file_extension": ".py",
   "mimetype": "text/x-python",
   "name": "python",
   "nbconvert_exporter": "python",
   "pygments_lexer": "ipython3",
   "version": "3.7.10"
  },
  "papermill": {
   "default_parameters": {},
   "duration": 63.18918,
   "end_time": "2021-09-04T05:52:33.666479",
   "environment_variables": {},
   "exception": null,
   "input_path": "__notebook__.ipynb",
   "output_path": "__notebook__.ipynb",
   "parameters": {},
   "start_time": "2021-09-04T05:51:30.477299",
   "version": "2.3.3"
  }
 },
 "nbformat": 4,
 "nbformat_minor": 5
}
